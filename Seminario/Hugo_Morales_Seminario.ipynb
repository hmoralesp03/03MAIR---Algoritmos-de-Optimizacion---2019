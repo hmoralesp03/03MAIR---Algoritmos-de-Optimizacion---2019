{
  "nbformat": 4,
  "nbformat_minor": 0,
  "metadata": {
    "colab": {
      "name": "Hugo_Morales_Seminario.ipynb",
      "provenance": [],
      "collapsed_sections": [],
      "include_colab_link": true
    },
    "kernelspec": {
      "name": "python3",
      "display_name": "Python 3"
    }
  },
  "cells": [
    {
      "cell_type": "markdown",
      "metadata": {
        "id": "view-in-github",
        "colab_type": "text"
      },
      "source": [
        "<a href=\"https://colab.research.google.com/github/hmoralesp03/03MAIR---Algoritmos-de-Optimizacion---2019/blob/master/Seminario/Hugo_Morales_Seminario.ipynb\" target=\"_parent\"><img src=\"https://colab.research.google.com/assets/colab-badge.svg\" alt=\"Open In Colab\"/></a>"
      ]
    },
    {
      "cell_type": "markdown",
      "metadata": {
        "id": "hVbXYX-RfPWh",
        "colab_type": "text"
      },
      "source": [
        "# Algoritmos de optimización - Seminario<br>\n",
        "Nombre y Apellidos: Hugo Arturo Morales Perlwitz  <br>\n",
        "Url: https://github.com/.../03MAIR---Algoritmos-de-Optimizacion---2019/tree/master/SEMINARIO<br>\n",
        "Problema:\n",
        "\n",
        ">3. Combinar cifras y operaciones\n",
        "\n",
        "Descripción del problema:(copiar enunciado)\n",
        "\n",
        "El problema consiste en analizar el siguiente problema y diseñar un algoritmo que lo resuelva\n",
        "Disponemos de las 9 cifras del 1 al 9 (excluimos el cero) y de los 4 signos básicos de las\n",
        "operaciones fundamentales: suma(+), resta(-), multiplicación(*) y división(/)\n",
        "Debemos combinarlos alternativamente sin repetir ninguno de ellos para obtener una\n",
        "cantidad dada. Un ejemplo sería para obtener el 4:\n",
        "4+2-6/3*1 = 4\n",
        "\n",
        "Debe analizarse el problema para encontrar todos los valores enteros posibles planteando las\n",
        "siguientes cuestiones:\n",
        "- ¿Qué valor máximo y mínimo se pueden obtener según las condiciones del problema?\n",
        "- ¿Es posible encontrar todos los valores enteros posibles entre dicho mínimo y máximo ?\n",
        "Nota: Es posible usar la función de python “eval” para evaluar una expresión\n",
        "\n",
        "\n",
        "....\n",
        "\n",
        "(*) La respuesta es obligatoria\n",
        "\n",
        "\n",
        "\n",
        "\n",
        "\n",
        "                                        "
      ]
    },
    {
      "cell_type": "markdown",
      "metadata": {
        "id": "3_-exlrTgLd-",
        "colab_type": "text"
      },
      "source": [
        "(*)¿Cuantas posibilidades hay sin tener en cuenta las restricciones?<br>\n",
        "\n",
        "\n",
        "\n",
        "¿Cuantas posibilidades hay teniendo en cuenta todas las restricciones.\n",
        "\n",
        "\n"
      ]
    },
    {
      "cell_type": "markdown",
      "metadata": {
        "id": "WfCUqJyKhPcw",
        "colab_type": "text"
      },
      "source": [
        "Respuesta"
      ]
    },
    {
      "cell_type": "code",
      "metadata": {
        "id": "iq6Fe32MgpDX",
        "colab_type": "code",
        "colab": {}
      },
      "source": [
        "#Para el problema de la combinación numérica no hay forma de poder determinarlo con exactitud, dependerá del resultado a pedirle al algoritmo, \n",
        "#en algunos casos entregará varias combinaciones (con o sin restricciones), como en otros casos no habrá combinación para entregar el resultado\n",
        "#solicitado, por ejemplo, para el resultado 3 existen 13 combinaciones numéricas, mientras que para el 0 existen sólo 4"
      ],
      "execution_count": 0,
      "outputs": []
    },
    {
      "cell_type": "markdown",
      "metadata": {
        "id": "dzynfVJahHoY",
        "colab_type": "text"
      },
      "source": [
        "Modelo para el espacio de soluciones<br>\n",
        "(*) ¿Cual es la estructura de datos que mejor se adapta al problema? Argumentalo.(Es posible que hayas elegido una al principio y veas la necesidad de cambiar, arguentalo)\n"
      ]
    },
    {
      "cell_type": "markdown",
      "metadata": {
        "id": "xFIJrOwKi2Ti",
        "colab_type": "text"
      },
      "source": [
        "Respuesta"
      ]
    },
    {
      "cell_type": "code",
      "metadata": {
        "id": "38c-7-ejhJmA",
        "colab_type": "code",
        "colab": {}
      },
      "source": [
        "#La estructura de datos para trabajar el problema es un vector, donde todos los elementos son del mismo tipo, números enteros de\n",
        "#1 a 9, variables del tipo int, a las cuales se puede acceder a través de subíndices con ciclos for, lo que permite un tratamiento\n",
        "#de datos más simple y el código de programación resulta ser más compacto"
      ],
      "execution_count": 0,
      "outputs": []
    },
    {
      "cell_type": "markdown",
      "metadata": {
        "id": "7Z9U2W7bi-XS",
        "colab_type": "text"
      },
      "source": [
        "Según el modelo para el espacio de soluciones<br>\n",
        "(*)¿Cual es la función objetivo?\n",
        "\n",
        "(*)¿Es un problema de maximización o minimización?"
      ]
    },
    {
      "cell_type": "markdown",
      "metadata": {
        "id": "hBalWLM7j1_d",
        "colab_type": "text"
      },
      "source": [
        "Respuesta"
      ]
    },
    {
      "cell_type": "code",
      "metadata": {
        "id": "pDA-rg3Gj5Lz",
        "colab_type": "code",
        "colab": {}
      },
      "source": [
        "#La función objetivo del problema sería:\n",
        "#   x[0] + x[1] - x[2] / x[3] * x[4] = y\n",
        "#donde x es el vector que guarda los datos a evaluar e y es el resultado solicitado\n",
        "\n",
        "#Se puede establecer que es un problema de minimización, debido a que el resultado será válido si es igual al valor solicitado,\n",
        "#de esta forma se entenderá que la combinación de números será válida si el error es igual a cero"
      ],
      "execution_count": 0,
      "outputs": []
    },
    {
      "cell_type": "markdown",
      "metadata": {
        "id": "rlnTYgY1j6I2",
        "colab_type": "text"
      },
      "source": [
        "Diseña un algoritmo para resolver el problema por fuerza bruta"
      ]
    },
    {
      "cell_type": "markdown",
      "metadata": {
        "id": "70rDgxYXkC8r",
        "colab_type": "text"
      },
      "source": [
        "Respuesta"
      ]
    },
    {
      "cell_type": "code",
      "metadata": {
        "id": "CJb5sQ0qkENy",
        "colab_type": "code",
        "outputId": "70a7f21b-706f-40c7-fa20-4c260632924a",
        "colab": {
          "base_uri": "https://localhost:8080/",
          "height": 238
        }
      },
      "source": [
        "num = [1, 2, 3, 4, 5, 6, 7, 8, 9]\n",
        "\n",
        "def eval_fbruta(y): #Ingresar el resultado buscado, la función entregará todas las combinaciones numéricas\n",
        "  x = [1, 1, 1, 1, 1] #Vector para almacenar los datos a evaluar\n",
        "\n",
        "  evaluacion = 0 #Variable para almacenar la evaluación y compararla con el resultado esperado\n",
        "  \n",
        "  for i in range(0, len(num)): #Los ciclos recorrerán el vector num asignando números para evaluar en x\n",
        "    x[0] = num[i]\n",
        "  \n",
        "    for j in range(0, len(num)):\n",
        "      if i != j:\n",
        "        x[1] = num[j]\n",
        "\n",
        "      for k in range(0, len(num)):\n",
        "        if i != k & j != k :\n",
        "          x[2] = num[k]\n",
        "        \n",
        "        for l in range(0, len(num)):\n",
        "          if i != l & j != l & k != l:\n",
        "            x[3] = num[l]\n",
        "          \n",
        "          for m in range(0, len(num)):\n",
        "            if i != m & j != m & k != m & l != m: #Se ingresa restricción para evitar números iguales\n",
        "              x[4] = num[l]\n",
        "              \n",
        "              evaluacion = x[0] + x[1] - x[2] / x[3] * x[4]\n",
        "              \n",
        "              if evaluacion == y: #Si la evaluación es igual al resultado buscado analizará si hay números repetidos\n",
        "                if x.count(x[0]) <= 1:\n",
        "                  if x.count(x[1]) <= 1:\n",
        "                    if x.count(x[2]) <= 1:\n",
        "                      if x.count(x[3]) <= 1:\n",
        "                        if x.count(x[4]) <= 1: #Si no hay números repetidos escribirá la combinación de números\n",
        "                          print(x[0], '+', x[1], '-', x[2], '/', x[3], '*', x[4], '=', y)\n",
        "\n",
        "      \n",
        "eval_fbruta(3) #Llamado a la función con el resultado esperado\n",
        "\n",
        "#El valor mínimo y máximo que se puede obtener con esta función es de 0 y 15 respectivamente\n",
        "#La función permite obtener todos los números enteros entre estos valores a través de combinaciones numéricas"
      ],
      "execution_count": 48,
      "outputs": [
        {
          "output_type": "stream",
          "text": [
            "1 + 3 - 4 / 8 * 2 = 3\n",
            "1 + 3 - 4 / 8 * 2 = 3\n",
            "1 + 3 - 4 / 8 * 2 = 3\n",
            "1 + 3 - 4 / 8 * 2 = 3\n",
            "1 + 3 - 4 / 8 * 2 = 3\n",
            "1 + 3 - 4 / 8 * 2 = 3\n",
            "1 + 3 - 4 / 8 * 2 = 3\n",
            "1 + 5 - 6 / 8 * 4 = 3\n",
            "1 + 5 - 6 / 8 * 4 = 3\n",
            "3 + 1 - 4 / 8 * 2 = 3\n",
            "3 + 1 - 4 / 8 * 2 = 3\n",
            "3 + 1 - 4 / 8 * 2 = 3\n",
            "3 + 1 - 4 / 8 * 2 = 3\n"
          ],
          "name": "stdout"
        }
      ]
    },
    {
      "cell_type": "markdown",
      "metadata": {
        "id": "tgrnsC2nkFa8",
        "colab_type": "text"
      },
      "source": [
        "Calcula la complejidad del algoritmo por fuerza bruta"
      ]
    },
    {
      "cell_type": "markdown",
      "metadata": {
        "id": "9eUd3xwckP68",
        "colab_type": "text"
      },
      "source": [
        "Respuesta"
      ]
    },
    {
      "cell_type": "code",
      "metadata": {
        "id": "rvZWwL-ckRST",
        "colab_type": "code",
        "colab": {}
      },
      "source": [
        "#La complejidad del algoritmo es n^5, los for anidados generan esta complejidad, las demás son operaciones de asignación y comparaciones lógicas"
      ],
      "execution_count": 0,
      "outputs": []
    },
    {
      "cell_type": "markdown",
      "metadata": {
        "id": "txbrmLmskReM",
        "colab_type": "text"
      },
      "source": [
        "(*)Diseña un algoritmo que mejore la complejidad del algortimo por fuerza bruta. Argumenta porque crees que mejora el algoritmo por fuerza bruta"
      ]
    },
    {
      "cell_type": "markdown",
      "metadata": {
        "id": "hLrVwt5QkZPD",
        "colab_type": "text"
      },
      "source": [
        "Respuesta"
      ]
    },
    {
      "cell_type": "code",
      "metadata": {
        "id": "m1eyM21Vkabg",
        "colab_type": "code",
        "colab": {}
      },
      "source": [
        ""
      ],
      "execution_count": 0,
      "outputs": []
    },
    {
      "cell_type": "markdown",
      "metadata": {
        "id": "eGDB4K6uk1iN",
        "colab_type": "text"
      },
      "source": [
        "(*)Calcula la complejidad del algoritmo "
      ]
    },
    {
      "cell_type": "markdown",
      "metadata": {
        "id": "NhpTh_BPk1ms",
        "colab_type": "text"
      },
      "source": [
        "Respuesta"
      ]
    },
    {
      "cell_type": "code",
      "metadata": {
        "id": "nREzhkStlCq8",
        "colab_type": "code",
        "colab": {}
      },
      "source": [
        ""
      ],
      "execution_count": 0,
      "outputs": []
    },
    {
      "cell_type": "markdown",
      "metadata": {
        "id": "3M6QjTsSkmYe",
        "colab_type": "text"
      },
      "source": [
        "Según el problema (y tenga sentido), diseña un juego de datos de entrada aleatorios"
      ]
    },
    {
      "cell_type": "markdown",
      "metadata": {
        "id": "Jc3_OlyNkvjZ",
        "colab_type": "text"
      },
      "source": [
        "Respuesta"
      ]
    },
    {
      "cell_type": "code",
      "metadata": {
        "id": "sJ-N2etjkyWc",
        "colab_type": "code",
        "colab": {}
      },
      "source": [
        "#Para este caso no aplica lo solicitado, los números aleatorios que puede tomar cada variable a evaluar pueden ir de 1 a 9, y \n",
        "#el código está diseñado para que no se repitan los valores de las variables a evaluar, bajo este punto de vista, no tendría sentido\n",
        "#ingresar datos de forma aleatoria por las restricciones del problema, lo mejor es tomarlos de forma directa desde un vector"
      ],
      "execution_count": 0,
      "outputs": []
    },
    {
      "cell_type": "markdown",
      "metadata": {
        "id": "zy5ZROmjlGo1",
        "colab_type": "text"
      },
      "source": [
        "Aplica el algoritmo al juego de datos generado"
      ]
    },
    {
      "cell_type": "markdown",
      "metadata": {
        "id": "_Cmj-PVylMsa",
        "colab_type": "text"
      },
      "source": [
        "Respuesta"
      ]
    },
    {
      "cell_type": "code",
      "metadata": {
        "id": "Jkx8GeiYlUz1",
        "colab_type": "code",
        "colab": {}
      },
      "source": [
        "#Adicional a la respuesta de la pregunta anterior, no se hizo la ejecución de lo solicitado, sin embargo, si se generaran datos de forma\n",
        "#aleatoria el código trabajaría sin problemas, dentro de su programación tiene las restricciones de operación que son condicionales\n",
        "#para resolver la función objetivo del problema"
      ],
      "execution_count": 0,
      "outputs": []
    },
    {
      "cell_type": "markdown",
      "metadata": {
        "colab_type": "text",
        "id": "eTFWUJQrtGcv"
      },
      "source": [
        "Enumera las referencias que has utilizado(si ha sido necesario) para llevar a cabo el trabajo"
      ]
    },
    {
      "cell_type": "markdown",
      "metadata": {
        "id": "YKQ_mRBttWsP",
        "colab_type": "text"
      },
      "source": [
        "Respuesta"
      ]
    },
    {
      "cell_type": "code",
      "metadata": {
        "id": "a4BHg9JbpRA1",
        "colab_type": "code",
        "colab": {}
      },
      "source": [
        "# 1.- Apuntes y códigos de la asignatura Introducción a python\n",
        "# 2.- Apuntes de la asignatura Algoritmos de optimización"
      ],
      "execution_count": 0,
      "outputs": []
    },
    {
      "cell_type": "markdown",
      "metadata": {
        "id": "kAkDPUyRtYyH",
        "colab_type": "text"
      },
      "source": [
        "Describe brevemente las lineas de como crees que es posible avanzar en el estudio del problema. Ten en cuenta incluso posibles variaciones del problema y/o variaciones al alza del tamaño"
      ]
    },
    {
      "cell_type": "markdown",
      "metadata": {
        "id": "IE0uZmo-tZu-",
        "colab_type": "text"
      },
      "source": [
        "Respuesta"
      ]
    },
    {
      "cell_type": "code",
      "metadata": {
        "id": "KtbKkgcysr7B",
        "colab_type": "code",
        "colab": {}
      },
      "source": [
        "#Para este caso, el problema a resolver siempre se limitará a las restricciones de no repetir valores a la hora de evaluar la función\n",
        "#objetivo, por lo tanto, si aumenta la cantidad de datos para resolver el problema, el código determinará su longitud, y luego, \n",
        "#comenzará a desarrollar hasta llegar al valor solicitado"
      ],
      "execution_count": 0,
      "outputs": []
    }
  ]
}