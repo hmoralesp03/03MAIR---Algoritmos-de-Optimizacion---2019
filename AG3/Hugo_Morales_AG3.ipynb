{
  "nbformat": 4,
  "nbformat_minor": 0,
  "metadata": {
    "colab": {
      "name": "Hugo_Morales_AG3.ipynb",
      "version": "0.3.2",
      "provenance": [],
      "collapsed_sections": [],
      "include_colab_link": true
    },
    "kernelspec": {
      "name": "python3",
      "display_name": "Python 3"
    }
  },
  "cells": [
    {
      "cell_type": "markdown",
      "metadata": {
        "id": "view-in-github",
        "colab_type": "text"
      },
      "source": [
        "<a href=\"https://colab.research.google.com/github/hmoralesp03/03MAIR---Algoritmos-de-Optimizacion---2019/blob/master/AG3/Hugo_Morales_AG3.ipynb\" target=\"_parent\"><img src=\"https://colab.research.google.com/assets/colab-badge.svg\" alt=\"Open In Colab\"/></a>"
      ]
    },
    {
      "cell_type": "code",
      "metadata": {
        "id": "ylT9TWX8igmM",
        "colab_type": "code",
        "colab": {}
      },
      "source": [
        "#AG3 - Actividad guiada 3\n",
        "#Hugo Morales\n",
        "# link github"
      ],
      "execution_count": 0,
      "outputs": []
    },
    {
      "cell_type": "code",
      "metadata": {
        "id": "C19YGiNQz4TM",
        "colab_type": "code",
        "colab": {
          "base_uri": "https://localhost:8080/",
          "height": 119
        },
        "outputId": "72688c94-0bd0-4f90-8932-f6f357b933ff"
      },
      "source": [
        "#Instalar librería\n",
        "# ! permite aplicar comandos exteriores\n",
        "!pip install request"
      ],
      "execution_count": 38,
      "outputs": [
        {
          "output_type": "stream",
          "text": [
            "Requirement already satisfied: request in /usr/local/lib/python3.6/dist-packages (2019.4.13)\n",
            "Requirement already satisfied: get in /usr/local/lib/python3.6/dist-packages (from request) (2019.4.13)\n",
            "Requirement already satisfied: post in /usr/local/lib/python3.6/dist-packages (from request) (2019.4.13)\n",
            "Requirement already satisfied: setuptools in /usr/local/lib/python3.6/dist-packages (from request) (41.2.0)\n",
            "Requirement already satisfied: query-string in /usr/local/lib/python3.6/dist-packages (from get->request) (2019.4.13)\n",
            "Requirement already satisfied: public in /usr/local/lib/python3.6/dist-packages (from query-string->get->request) (2019.4.13)\n"
          ],
          "name": "stdout"
        }
      ]
    },
    {
      "cell_type": "code",
      "metadata": {
        "id": "spcw7qkf0Zcj",
        "colab_type": "code",
        "colab": {
          "base_uri": "https://localhost:8080/",
          "height": 34
        },
        "outputId": "b5c258d1-85d8-4dd0-c887-fff6693fa28b"
      },
      "source": [
        "import urllib.request\n",
        "file = 'swiss42.tsp'\n",
        "\n",
        "urllib.request.urlretrieve('http://elib.zib.de/pub/mp-testdata/tsp/tsplib/tsp/swiss42.tsp', file)"
      ],
      "execution_count": 39,
      "outputs": [
        {
          "output_type": "execute_result",
          "data": {
            "text/plain": [
              "('swiss42.tsp', <http.client.HTTPMessage at 0x7fe8fdd10e48>)"
            ]
          },
          "metadata": {
            "tags": []
          },
          "execution_count": 39
        }
      ]
    },
    {
      "cell_type": "code",
      "metadata": {
        "id": "F9jtESN_2AyB",
        "colab_type": "code",
        "colab": {
          "base_uri": "https://localhost:8080/",
          "height": 85
        },
        "outputId": "d151c0ca-6347-4024-bed3-f6253ef32d17"
      },
      "source": [
        "!pip install tsplib95"
      ],
      "execution_count": 40,
      "outputs": [
        {
          "output_type": "stream",
          "text": [
            "Requirement already satisfied: tsplib95 in /usr/local/lib/python3.6/dist-packages (0.3.3)\n",
            "Requirement already satisfied: networkx==2.1 in /usr/local/lib/python3.6/dist-packages (from tsplib95) (2.1)\n",
            "Requirement already satisfied: Click>=6.0 in /usr/local/lib/python3.6/dist-packages (from tsplib95) (7.0)\n",
            "Requirement already satisfied: decorator>=4.1.0 in /usr/local/lib/python3.6/dist-packages (from networkx==2.1->tsplib95) (4.4.0)\n"
          ],
          "name": "stdout"
        }
      ]
    },
    {
      "cell_type": "code",
      "metadata": {
        "id": "ef1rjFCp2EcH",
        "colab_type": "code",
        "colab": {}
      },
      "source": [
        "import tsplib95\n",
        "import random\n",
        "from math import e"
      ],
      "execution_count": 0,
      "outputs": []
    },
    {
      "cell_type": "code",
      "metadata": {
        "id": "7-mADBXz2OCL",
        "colab_type": "code",
        "colab": {
          "base_uri": "https://localhost:8080/",
          "height": 34
        },
        "outputId": "58416483-7324-4538-a93c-f1deea9673b9"
      },
      "source": [
        "problem = tsplib95.load_problem(file)\n",
        "\n",
        "Nodos = list(problem.get_nodes()) #Obtiene los nodos del problema\n",
        "\n",
        "list(problem.get_nodes())\n",
        "list(problem.get_edges())\n",
        "\n",
        "problem.wfunc(0,3)"
      ],
      "execution_count": 42,
      "outputs": [
        {
          "output_type": "execute_result",
          "data": {
            "text/plain": [
              "23"
            ]
          },
          "metadata": {
            "tags": []
          },
          "execution_count": 42
        }
      ]
    },
    {
      "cell_type": "code",
      "metadata": {
        "id": "5oGK9qW12c2C",
        "colab_type": "code",
        "colab": {
          "base_uri": "https://localhost:8080/",
          "height": 54
        },
        "outputId": "cf03884e-8480-4e3a-fbfb-75b8ecd7f66c"
      },
      "source": [
        "def distancia(a, b, problem):\n",
        "  return problem.wfunc(a,b)\n",
        "\n",
        "def crear_solucion(Nodos): \n",
        "  solucion = [0]\n",
        "  for i in range(len(Nodos)-1):\n",
        "    solucion = solucion + [random.choice(list(set(Nodos) - set({0}) - set(solucion)))]\n",
        "  return solucion\n",
        "\n",
        "def distancia_total(solucion, problem):\n",
        "  distancia_ret = 0\n",
        "  for i in range(len(solucion)-1):\n",
        "    distancia_ret += distancia(solucion[i], solucion[i+1], problem)\n",
        "  return distancia_ret + distancia(solucion[len(solucion)-1], solucion[0], problem)\n",
        "\n",
        "solucion_prueba = crear_solucion(Nodos)\n",
        "\n",
        "print(distancia_total(solucion_prueba, problem), solucion_prueba)"
      ],
      "execution_count": 63,
      "outputs": [
        {
          "output_type": "stream",
          "text": [
            "4539 [0, 12, 30, 19, 33, 5, 16, 36, 38, 40, 24, 39, 1, 23, 35, 6, 20, 3, 26, 25, 21, 34, 28, 22, 14, 41, 4, 11, 27, 31, 17, 18, 29, 8, 9, 7, 2, 32, 15, 13, 10, 37]\n"
          ],
          "name": "stdout"
        }
      ]
    },
    {
      "cell_type": "code",
      "metadata": {
        "id": "4jgNUENL3MpP",
        "colab_type": "code",
        "colab": {}
      },
      "source": [
        "def busqueda_aleatoria(problem, N):\n",
        "  Nodos = list(problem.get_nodes())\n",
        "  \n",
        "  mejor_solucion = []\n",
        "  mejor_distancia = 10e10\n",
        "  \n",
        "  for i in range(N):\n",
        "    solucion = crear_solucion(Nodos)\n",
        "    distancia_solucion = distancia_total(solucion, problem)\n",
        "    \n",
        "    if distancia_solucion < mejor_distancia:\n",
        "      mejor_solucion = solucion\n",
        "      mejor_distancia = distancia_solucion\n",
        "      \n",
        "  print(mejor_distancia, mejor_solucion)\n",
        "  return mejor_solucion\n",
        "\n",
        "\n",
        "busqueda_aleatoria(problem, 5000)"
      ],
      "execution_count": 0,
      "outputs": []
    },
    {
      "cell_type": "code",
      "metadata": {
        "id": "bSPsyiGi-0nV",
        "colab_type": "code",
        "colab": {
          "base_uri": "https://localhost:8080/",
          "height": 731
        },
        "outputId": "330ce51b-acf0-4ca3-8f74-0d360acc7710"
      },
      "source": [
        "def generar_vecina(solucion, problem):\n",
        "  mejor_solucion = []\n",
        "  mejor_distancia = 10e10\n",
        "  for i in range(1, len(solucion)-1):\n",
        "    for j in range(i+1, len(solucion)):\n",
        "      vecina = solucion[:i] + [solucion[j]] + solucion[i+1:j] + [solucion[i]] + solucion[j+1:]\n",
        "      distancia_vecina = distancia_total(vecina, problem)\n",
        "      if distancia_vecina < mejor_distancia:\n",
        "        mejor_solucion = vecina\n",
        "        mejor_distancia = distancia_vecina\n",
        "  return mejor_solucion\n",
        "\n",
        "solucion_prueba = crear_solucion(Nodos)\n",
        "generar_vecina(solucion_prueba, problem)\n"
      ],
      "execution_count": 67,
      "outputs": [
        {
          "output_type": "execute_result",
          "data": {
            "text/plain": [
              "[0,\n",
              " 16,\n",
              " 36,\n",
              " 35,\n",
              " 27,\n",
              " 33,\n",
              " 21,\n",
              " 23,\n",
              " 40,\n",
              " 10,\n",
              " 14,\n",
              " 39,\n",
              " 28,\n",
              " 2,\n",
              " 5,\n",
              " 1,\n",
              " 6,\n",
              " 22,\n",
              " 34,\n",
              " 41,\n",
              " 18,\n",
              " 12,\n",
              " 25,\n",
              " 15,\n",
              " 13,\n",
              " 29,\n",
              " 37,\n",
              " 38,\n",
              " 3,\n",
              " 8,\n",
              " 30,\n",
              " 7,\n",
              " 19,\n",
              " 20,\n",
              " 24,\n",
              " 4,\n",
              " 9,\n",
              " 32,\n",
              " 26,\n",
              " 31,\n",
              " 11,\n",
              " 17]"
            ]
          },
          "metadata": {
            "tags": []
          },
          "execution_count": 67
        }
      ]
    },
    {
      "cell_type": "code",
      "metadata": {
        "id": "VvCSxdJ7JfGn",
        "colab_type": "code",
        "colab": {
          "base_uri": "https://localhost:8080/",
          "height": 768
        },
        "outputId": "a65ab6ca-dc7f-44b4-cbe7-9e52d2b41576"
      },
      "source": [
        "def busqueda_local(problem, N):\n",
        "  mejor_solucion = []\n",
        "  mejor_distancia = 10e10\n",
        "  \n",
        "  Nodos = list(problem.get_nodes())\n",
        "  \n",
        "  solucion_referencia = crear_solucion(Nodos)\n",
        "  \n",
        "  for i in range(N):\n",
        "    vecina = generar_vecina(solucion_referencia, problem)\n",
        "    distancia_vecina = distancia_total(vecina, problem)\n",
        "    if distancia_vecina < mejor_distancia:\n",
        "      mejor_solucion = vecina\n",
        "      mejor_distancia = distancia_vecina\n",
        "      \n",
        "    solucion_referencia = mejor_solucion\n",
        "    \n",
        "  print(distancia_total(vecina, problem), mejor_solucion)\n",
        "    \n",
        "  return mejor_solucion\n",
        "\n",
        "busqueda_local(problem, 100)\n",
        "  \n",
        "  "
      ],
      "execution_count": 70,
      "outputs": [
        {
          "output_type": "stream",
          "text": [
            "1699 [0, 27, 2, 28, 29, 30, 32, 3, 4, 6, 5, 13, 19, 14, 16, 15, 37, 17, 7, 1, 8, 9, 40, 24, 22, 38, 34, 33, 35, 36, 31, 20, 39, 21, 23, 41, 10, 25, 11, 12, 18, 26]\n"
          ],
          "name": "stdout"
        },
        {
          "output_type": "execute_result",
          "data": {
            "text/plain": [
              "[0,\n",
              " 27,\n",
              " 2,\n",
              " 28,\n",
              " 29,\n",
              " 30,\n",
              " 32,\n",
              " 3,\n",
              " 4,\n",
              " 6,\n",
              " 5,\n",
              " 13,\n",
              " 19,\n",
              " 14,\n",
              " 16,\n",
              " 15,\n",
              " 37,\n",
              " 17,\n",
              " 7,\n",
              " 1,\n",
              " 8,\n",
              " 9,\n",
              " 40,\n",
              " 24,\n",
              " 22,\n",
              " 38,\n",
              " 34,\n",
              " 33,\n",
              " 35,\n",
              " 36,\n",
              " 31,\n",
              " 20,\n",
              " 39,\n",
              " 21,\n",
              " 23,\n",
              " 41,\n",
              " 10,\n",
              " 25,\n",
              " 11,\n",
              " 12,\n",
              " 18,\n",
              " 26]"
            ]
          },
          "metadata": {
            "tags": []
          },
          "execution_count": 70
        }
      ]
    },
    {
      "cell_type": "code",
      "metadata": {
        "id": "iACwb_YAKfGp",
        "colab_type": "code",
        "colab": {}
      },
      "source": [
        "def probabilidad(T,d):\n",
        "  r = random.random()\n",
        "  \n",
        "  if r >= (e**(-1*d)/((T* .5*10**(-5)))):\n",
        "    return True\n",
        "  else:\n",
        "    return False\n",
        "  \n",
        "def bajar_Temperatura(T):\n",
        "  return T*0.9"
      ],
      "execution_count": 0,
      "outputs": []
    },
    {
      "cell_type": "code",
      "metadata": {
        "id": "pnpaqKzZfNNo",
        "colab_type": "code",
        "colab": {
          "base_uri": "https://localhost:8080/",
          "height": 768
        },
        "outputId": "d0ffdf5b-7895-42c6-8c1d-0b9989a9d691"
      },
      "source": [
        "def recocido_simulado(problem, TEMPERATURA):\n",
        "  \n",
        "  solucion_referencia = crear_solucion(Nodos)\n",
        "  distancia_referencia = distancia_total(solucion_referencia, problem)\n",
        "  \n",
        "  mejor_solucion = []\n",
        "  mejor_distancia = 10e10\n",
        "  \n",
        "  while TEMPERATURA > 1:\n",
        "    vecina = generar_vecina(solucion_referencia, problem)\n",
        "    distancia_vecina = distancia_total(vecina, problem)\n",
        "    \n",
        "    if distancia_vecina < mejor_distancia:\n",
        "      mejor_solucion = vecina\n",
        "      mejor_distancia = distancia_vecina\n",
        "      \n",
        "    if distancia_vecina < distancia_referencia or probabilidad(TEMPERATURA, abs(distancia_referencia - distancia_vecina)):\n",
        "      solucion_referencia = vecina\n",
        "      distancia_referencia = distancia_vecina\n",
        "      \n",
        "    TEMPERATURA = bajar_Temperatura(TEMPERATURA)\n",
        "    \n",
        "    print(mejor_distancia, mejor_solucion)\n",
        "    \n",
        "    return mejor_solucion\n",
        "    \n",
        "recocido_simulado(problem, 10000)\n",
        "    "
      ],
      "execution_count": 85,
      "outputs": [
        {
          "output_type": "stream",
          "text": [
            "4288 [0, 25, 16, 15, 32, 5, 1, 38, 30, 36, 18, 23, 27, 3, 34, 21, 24, 9, 12, 19, 33, 22, 13, 37, 7, 14, 17, 10, 29, 11, 35, 4, 39, 41, 28, 8, 40, 31, 20, 2, 6, 26]\n"
          ],
          "name": "stdout"
        },
        {
          "output_type": "execute_result",
          "data": {
            "text/plain": [
              "[0,\n",
              " 25,\n",
              " 16,\n",
              " 15,\n",
              " 32,\n",
              " 5,\n",
              " 1,\n",
              " 38,\n",
              " 30,\n",
              " 36,\n",
              " 18,\n",
              " 23,\n",
              " 27,\n",
              " 3,\n",
              " 34,\n",
              " 21,\n",
              " 24,\n",
              " 9,\n",
              " 12,\n",
              " 19,\n",
              " 33,\n",
              " 22,\n",
              " 13,\n",
              " 37,\n",
              " 7,\n",
              " 14,\n",
              " 17,\n",
              " 10,\n",
              " 29,\n",
              " 11,\n",
              " 35,\n",
              " 4,\n",
              " 39,\n",
              " 41,\n",
              " 28,\n",
              " 8,\n",
              " 40,\n",
              " 31,\n",
              " 20,\n",
              " 2,\n",
              " 6,\n",
              " 26]"
            ]
          },
          "metadata": {
            "tags": []
          },
          "execution_count": 85
        }
      ]
    },
    {
      "cell_type": "code",
      "metadata": {
        "id": "SChiUJQRhxwA",
        "colab_type": "code",
        "colab": {}
      },
      "source": [
        ""
      ],
      "execution_count": 0,
      "outputs": []
    }
  ]
}