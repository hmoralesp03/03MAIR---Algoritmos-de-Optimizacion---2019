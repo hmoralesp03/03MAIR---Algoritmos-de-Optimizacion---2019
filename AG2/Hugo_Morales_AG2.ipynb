{
  "nbformat": 4,
  "nbformat_minor": 0,
  "metadata": {
    "colab": {
      "name": "Hugo_Morales_AG2.ipynb",
      "version": "0.3.2",
      "provenance": [],
      "collapsed_sections": [],
      "include_colab_link": true
    },
    "kernelspec": {
      "name": "python3",
      "display_name": "Python 3"
    }
  },
  "cells": [
    {
      "cell_type": "markdown",
      "metadata": {
        "id": "view-in-github",
        "colab_type": "text"
      },
      "source": [
        "<a href=\"https://colab.research.google.com/github/hmoralesp03/03MAIR---Algoritmos-de-Optimizacion---2019/blob/master/AG2/Hugo_Morales_AG2.ipynb\" target=\"_parent\"><img src=\"https://colab.research.google.com/assets/colab-badge.svg\" alt=\"Open In Colab\"/></a>"
      ]
    },
    {
      "cell_type": "code",
      "metadata": {
        "id": "CVF-jsoWlsQJ",
        "colab_type": "code",
        "colab": {}
      },
      "source": [
        "\n",
        "#Nombre: Hugo Morales\n",
        "\n",
        "#URL: github\n",
        "\n"
      ],
      "execution_count": 0,
      "outputs": []
    },
    {
      "cell_type": "code",
      "metadata": {
        "id": "hFzIjXQjvuaP",
        "colab_type": "code",
        "colab": {}
      },
      "source": [
        "#Viaje por el río, Programación dinámica"
      ],
      "execution_count": 0,
      "outputs": []
    },
    {
      "cell_type": "code",
      "metadata": {
        "id": "eoGxMBt5nYVg",
        "colab_type": "code",
        "colab": {}
      },
      "source": [
        "\n",
        "\n",
        "TARIFAS = [\n",
        "[0,5,4,3,999,999,999],\n",
        "[999,0,999,2,3,999,11],\n",
        "[999,999, 0,1,999,4,10],\n",
        "[999,999,999, 0,5,6,9],\n",
        "[999,999, 999,999,0,999,4],\n",
        "[999,999, 999,999,999,0,3],\n",
        "[999,999,999,999,999,999,0]\n",
        "]\n"
      ],
      "execution_count": 0,
      "outputs": []
    },
    {
      "cell_type": "code",
      "metadata": {
        "id": "ApbdbGvInvWr",
        "colab_type": "code",
        "colab": {
          "base_uri": "https://localhost:8080/",
          "height": 88
        },
        "outputId": "4389f059-ac01-43b5-88e0-83bf22b4db56"
      },
      "source": [
        "def Precios(TARIFAS):\n",
        "  N = len(TARIFAS[0])\n",
        "  PRECIOS = [ [9999]*N for i in [9999]*N]\n",
        "  RUTA = [[\"\"]*N for i in [\"\"]*N]\n",
        "  \n",
        "  for i in range(N-1):\n",
        "    for j in range(i+1,N):\n",
        "      MIN = TARIFAS[i][j]\n",
        "      RUTA[i][j] = i\n",
        "      \n",
        "      for k in range(i, j):\n",
        "        if PRECIOS[i][k] + TARIFAS[k][j] < MIN:\n",
        "          MIN = PRECIOS[i][k] + TARIFAS[k][j]\n",
        "          RUTA[i][j] = k\n",
        "      PRECIOS[i][j] = MIN\n",
        "      \n",
        "  return PRECIOS, RUTA\n",
        "\n",
        "PRECIOS, RUTA = Precios(TARIFAS)\n",
        "\n",
        "print(PRECIOS)\n",
        "print(RUTA)\n",
        "\n",
        "def calcular_ruta(RUTA, desde, hasta):\n",
        "  if desde == hasta:\n",
        "    return desde\n",
        "  else:\n",
        "    return str(calcular_ruta(RUTA, desde, RUTA[desde][hasta])) + ' - ' + str(RUTA[desde][hasta])\n",
        "  \n",
        "calcular_ruta(RUTA, 1, 6)\n",
        "  \n",
        "  \n",
        "  \n",
        "  \n",
        "  \n",
        "  \n",
        "  \n",
        "  \n",
        "  \n",
        "  \n",
        "  "
      ],
      "execution_count": 14,
      "outputs": [
        {
          "output_type": "stream",
          "text": [
            "[[9999, 5, 4, 3, 8, 8, 11], [9999, 9999, 999, 2, 3, 8, 7], [9999, 9999, 9999, 1, 6, 4, 7], [9999, 9999, 9999, 9999, 5, 6, 9], [9999, 9999, 9999, 9999, 9999, 999, 4], [9999, 9999, 9999, 9999, 9999, 9999, 3], [9999, 9999, 9999, 9999, 9999, 9999, 9999]]\n",
            "[['', 0, 0, 0, 1, 2, 5], ['', '', 1, 1, 1, 3, 4], ['', '', '', 2, 3, 2, 5], ['', '', '', '', 3, 3, 3], ['', '', '', '', '', 4, 4], ['', '', '', '', '', '', 5], ['', '', '', '', '', '', '']]\n"
          ],
          "name": "stdout"
        },
        {
          "output_type": "execute_result",
          "data": {
            "text/plain": [
              "'1 - 1 - 4'"
            ]
          },
          "metadata": {
            "tags": []
          },
          "execution_count": 14
        }
      ]
    },
    {
      "cell_type": "code",
      "metadata": {
        "id": "stdAWkbNwFYv",
        "colab_type": "code",
        "colab": {}
      },
      "source": [
        "#Asignación de tareas, Ramificación y poda"
      ],
      "execution_count": 0,
      "outputs": []
    },
    {
      "cell_type": "code",
      "metadata": {
        "id": "M6dZwMVFwGQn",
        "colab_type": "code",
        "colab": {}
      },
      "source": [
        "import itertools\n",
        "from functools import wraps\n",
        "\n",
        "def calcular_tiempo(f):\n",
        "    @wraps(f)\n",
        "    def cronometro(*args, **kwargs):\n",
        "        t_inicial = time()\n",
        "        salida = f(*args, **kwargs)\n",
        "        t_final = time()\n",
        "        print('Tiempo transcurrido (en segundos): {}'.format(t_final - t_inicial))\n",
        "        return salida\n",
        "    return cronometro"
      ],
      "execution_count": 0,
      "outputs": []
    },
    {
      "cell_type": "code",
      "metadata": {
        "id": "m5R84UThxgMo",
        "colab_type": "code",
        "colab": {}
      },
      "source": [
        "#4 agentes, 4 tareas\n",
        "COSTES=[[11,12,18,40],\n",
        "        [14,15,13,22],\n",
        "        [11,17,19,23],\n",
        "        [17,14,20,28]]\n",
        "\n"
      ],
      "execution_count": 0,
      "outputs": []
    },
    {
      "cell_type": "code",
      "metadata": {
        "id": "dQnGbJvuzJwq",
        "colab_type": "code",
        "colab": {
          "base_uri": "https://localhost:8080/",
          "height": 34
        },
        "outputId": "2bafb335-81e1-4c2c-a3ea-a2d5db431246"
      },
      "source": [
        "def valor(S, COSTES):\n",
        "  VALOR = 0\n",
        "  for i in range(len(S)):\n",
        "    VALOR = VALOR + COSTES[S[i]][i]\n",
        "    \n",
        "  return VALOR\n",
        "    \n",
        "#Agente1  2  3  4\n",
        "#En valor se asigna la tarea\n",
        "valor((0, 1, 2, 3), COSTES)"
      ],
      "execution_count": 54,
      "outputs": [
        {
          "output_type": "execute_result",
          "data": {
            "text/plain": [
              "73"
            ]
          },
          "metadata": {
            "tags": []
          },
          "execution_count": 54
        }
      ]
    },
    {
      "cell_type": "code",
      "metadata": {
        "id": "GaOfqYuK1uMO",
        "colab_type": "code",
        "colab": {
          "base_uri": "https://localhost:8080/",
          "height": 34
        },
        "outputId": "d9f8325b-130e-465e-c284-45c7cf2a3405"
      },
      "source": [
        "def fuerza_bruta(COSTES):\n",
        "  mejor_valor = 10e10\n",
        "  mejor_solucion = ''\n",
        "  \n",
        "  for S in list(itertools.permutations(range(len(COSTES)))):\n",
        "    valor_temp = valor(S, COSTES)\n",
        "    if valor_temp < mejor_valor:\n",
        "      mejor_solucion = S\n",
        "      mejor_valor = valor_temp\n",
        "      \n",
        "  print(\"La mejor solución es: \", mejor_solucion)\n",
        "      \n",
        "  \n",
        "  \n",
        "fuerza_bruta(COSTES)"
      ],
      "execution_count": 55,
      "outputs": [
        {
          "output_type": "stream",
          "text": [
            "La mejor solución es:  (0, 3, 1, 2)\n"
          ],
          "name": "stdout"
        }
      ]
    },
    {
      "cell_type": "code",
      "metadata": {
        "id": "RXU7Hf9P2XYR",
        "colab_type": "code",
        "colab": {
          "base_uri": "https://localhost:8080/",
          "height": 425
        },
        "outputId": "f0a02c46-3218-4c01-b9e9-07b4e79e3679"
      },
      "source": [
        "list(itertools.permutations(range(len(COSTES))))"
      ],
      "execution_count": 26,
      "outputs": [
        {
          "output_type": "execute_result",
          "data": {
            "text/plain": [
              "[(0, 1, 2, 3),\n",
              " (0, 1, 3, 2),\n",
              " (0, 2, 1, 3),\n",
              " (0, 2, 3, 1),\n",
              " (0, 3, 1, 2),\n",
              " (0, 3, 2, 1),\n",
              " (1, 0, 2, 3),\n",
              " (1, 0, 3, 2),\n",
              " (1, 2, 0, 3),\n",
              " (1, 2, 3, 0),\n",
              " (1, 3, 0, 2),\n",
              " (1, 3, 2, 0),\n",
              " (2, 0, 1, 3),\n",
              " (2, 0, 3, 1),\n",
              " (2, 1, 0, 3),\n",
              " (2, 1, 3, 0),\n",
              " (2, 3, 0, 1),\n",
              " (2, 3, 1, 0),\n",
              " (3, 0, 1, 2),\n",
              " (3, 0, 2, 1),\n",
              " (3, 1, 0, 2),\n",
              " (3, 1, 2, 0),\n",
              " (3, 2, 0, 1),\n",
              " (3, 2, 1, 0)]"
            ]
          },
          "metadata": {
            "tags": []
          },
          "execution_count": 26
        }
      ]
    },
    {
      "cell_type": "code",
      "metadata": {
        "id": "7wMPR4B_3VmH",
        "colab_type": "code",
        "colab": {
          "base_uri": "https://localhost:8080/",
          "height": 34
        },
        "outputId": "d0345c39-488c-4923-fc23-d77fdd0a3105"
      },
      "source": [
        "def CI(S, COSTES):\n",
        "  VALOR =0\n",
        "  \n",
        "  for i in range(len(S)):\n",
        "    VALOR += COSTES[i][S[i]]\n",
        "    \n",
        "  #Estimaciones\n",
        "  for i in range(len(COSTES)):\n",
        "    if i not in S:\n",
        "      VALOR += min([COSTES[i][j] for j in range(len(S), len(COSTES))])\n",
        "      \n",
        "  return VALOR\n",
        "\n",
        "def crear_hijos(NODO, N):\n",
        "  HIJOS = []\n",
        "  for i in range(N):\n",
        "    if i not in NODO:\n",
        "      HIJOS.append({'s' :NODO+(i,)})\n",
        "  return HIJOS\n",
        "\n",
        "crear_hijos((0,2), 4)"
      ],
      "execution_count": 56,
      "outputs": [
        {
          "output_type": "execute_result",
          "data": {
            "text/plain": [
              "[{'s': (0, 2, 1)}, {'s': (0, 2, 3)}]"
            ]
          },
          "metadata": {
            "tags": []
          },
          "execution_count": 56
        }
      ]
    },
    {
      "cell_type": "code",
      "metadata": {
        "id": "ZUdEBZf4W1qx",
        "colab_type": "code",
        "colab": {}
      },
      "source": [
        "def ramificacion_y_poda(COSTES):\n",
        "  DIMENSION = len(COSTES)\n",
        "  MEJOR_SOLUCION = tuple(i for i in range(DIMENSION))\n",
        "  \n",
        "  CotaSup = valor(MEJOR_SOLUCION, COSTES)\n",
        "  \n",
        "  NODOS = []\n",
        "  NODOS.append({'s':(), 'ci':CI((), COSTES)})\n",
        "  \n",
        "  #NODOS.append({'s':(1,), 'ci': 34})\n",
        "  \n",
        "  #print(NODOS)\n",
        "  \n",
        "  iteracion = 0\n",
        "  \n",
        "  while(len(NODOS) > 0):\n",
        "    iteracion += 1\n",
        "    print('#', iteracion)\n",
        "    nodo_prometedor = min(NODOS, key=lambda x:x['ci'])\n",
        "    \n",
        "    #print(nodo_prometedor)\n",
        "    #return\n",
        "    \n",
        "    #Hijos\n",
        "    HIJOS = [{'s':x['s'], 'ci':CI(x['s'], COSTES)} for x in crear_hijos(nodo_prometedor['s'], DIMENSION)]\n",
        "    \n",
        "    NODO_FINAL = [x for x in HIJOS if len(x['s']) == DIMENSION]\n",
        "    if len(NODO_FINAL) > 0:\n",
        "      if NODO_FINAL[0]['ci'] < CotaSup:\n",
        "        CotaSup = NODO_FINAL[0]['ci']\n",
        "        MEJOR_SOLUCION = NODO_FINAL[0]\n",
        "    \n",
        "    \n",
        "    \n",
        "    #Poda\n",
        "    HIJOS = [x for x in HIJOS if x['ci']< CotaSup]\n",
        "    \n",
        "    \n",
        "    #Se elimina el nodo expandido\n",
        "    HIJOS = [x for x in NODOS if x['s'] != nodo_prometedor]\n",
        "    \n",
        "    #Se añaden los hijos\n",
        "    NODOS.extend(HIJOS)\n",
        "    \n",
        "    \n",
        "    #return HIJOS\n",
        "  print(\"La mejor solución es: \", MEJOR_SOLUCION)\n",
        "  \n",
        "  \n",
        "  \n",
        "ramificacion_y_poda(COSTES)"
      ],
      "execution_count": 0,
      "outputs": []
    },
    {
      "cell_type": "code",
      "metadata": {
        "id": "ZjRVxQk2YifJ",
        "colab_type": "code",
        "colab": {}
      },
      "source": [
        ""
      ],
      "execution_count": 0,
      "outputs": []
    }
  ]
}