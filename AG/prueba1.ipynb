{
  "nbformat": 4,
  "nbformat_minor": 0,
  "metadata": {
    "colab": {
      "name": "prueba1.ipynb",
      "version": "0.3.2",
      "provenance": [],
      "include_colab_link": true
    },
    "kernelspec": {
      "name": "python3",
      "display_name": "Python 3"
    }
  },
  "cells": [
    {
      "cell_type": "markdown",
      "metadata": {
        "id": "view-in-github",
        "colab_type": "text"
      },
      "source": [
        "<a href=\"https://colab.research.google.com/github/hmoralesp03/03MAIR---Algoritmos-de-Optimizacion---2019/blob/master/AG/prueba1.ipynb\" target=\"_parent\"><img src=\"https://colab.research.google.com/assets/colab-badge.svg\" alt=\"Open In Colab\"/></a>"
      ]
    },
    {
      "cell_type": "code",
      "metadata": {
        "id": "UIid3AnS-j3u",
        "colab_type": "code",
        "colab": {
          "base_uri": "https://localhost:8080/",
          "height": 170
        },
        "outputId": "6185e8c4-8e76-4231-80ab-27122ed01f72"
      },
      "source": [
        "!pip install sorting"
      ],
      "execution_count": 1,
      "outputs": [
        {
          "output_type": "stream",
          "text": [
            "Collecting sorting\n",
            "  Downloading https://files.pythonhosted.org/packages/5a/a7/97e31ce3b9c16f1041bb94063a2778b666ef8ee5862094c248e9445c454c/sorting-1.0.3.tar.gz\n",
            "Building wheels for collected packages: sorting\n",
            "  Building wheel for sorting (setup.py) ... \u001b[?25l\u001b[?25hdone\n",
            "  Created wheel for sorting: filename=sorting-1.0.3-cp36-none-any.whl size=5882 sha256=539db95f9259e36a29f741919294faf8a68ba3934de0220c3a6501e474c95b1d\n",
            "  Stored in directory: /root/.cache/pip/wheels/eb/f9/9d/ea128e53c92937b3f10b15f961f100068615df83d0b7c3affc\n",
            "Successfully built sorting\n",
            "Installing collected packages: sorting\n",
            "Successfully installed sorting-1.0.3\n"
          ],
          "name": "stdout"
        }
      ]
    },
    {
      "cell_type": "code",
      "metadata": {
        "id": "4JM3eTU5_hg6",
        "colab_type": "code",
        "colab": {
          "base_uri": "https://localhost:8080/",
          "height": 34
        },
        "outputId": "4bbc228b-e12c-448a-fba8-f26dcf5bf44f"
      },
      "source": [
        "import sorting\n",
        "lista = [4, 5, 32, 1]\n",
        "lista_ordenada = sorting.bubble(lista)\n",
        "print(lista_ordenada)\n"
      ],
      "execution_count": 2,
      "outputs": [
        {
          "output_type": "stream",
          "text": [
            "[1, 4, 5, 32]\n"
          ],
          "name": "stdout"
        }
      ]
    }
  ]
}