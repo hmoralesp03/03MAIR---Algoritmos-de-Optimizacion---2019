{
  "nbformat": 4,
  "nbformat_minor": 0,
  "metadata": {
    "colab": {
      "name": "Hugo Morales - AG1.ipynb",
      "version": "0.3.2",
      "provenance": [],
      "collapsed_sections": [],
      "include_colab_link": true
    },
    "kernelspec": {
      "name": "python3",
      "display_name": "Python 3"
    }
  },
  "cells": [
    {
      "cell_type": "markdown",
      "metadata": {
        "id": "view-in-github",
        "colab_type": "text"
      },
      "source": [
        "<a href=\"https://colab.research.google.com/github/hmoralesp03/03MAIR---Algoritmos-de-Optimizacion---2019/blob/master/AG1/Hugo_Morales_AG1.ipynb\" target=\"_parent\"><img src=\"https://colab.research.google.com/assets/colab-badge.svg\" alt=\"Open In Colab\"/></a>"
      ]
    },
    {
      "cell_type": "markdown",
      "metadata": {
        "id": "X4Pbi3XCMaoK",
        "colab_type": "text"
      },
      "source": [
        "Actividad guiada 1 - AG1\n",
        "Hugo Morales\n",
        "\n",
        "https://colab.research.google.com/drive/1UD2SJBt-9bOTfLfaarYJedEkuQJxPtJT\n",
        "\n",
        "https://github.com/hmoralesp03/03MAIR---Algoritmos-de-Optimizacion---2019"
      ]
    },
    {
      "cell_type": "code",
      "metadata": {
        "id": "f_5HX-UWMisT",
        "colab_type": "code",
        "colab": {}
      },
      "source": [
        "#Llamado de librerías\n",
        "from functools import wraps\n",
        "from time import time\n",
        "\n",
        "def calcular_tiempo(f):\n",
        "  @wraps(f) #decorador\n",
        "  def cronometro(*args, **kwargs):\n",
        "    t_inicial = time()\n",
        "    salida = f(*args, **kwargs)\n",
        "    t_final = time()\n",
        "    print('Tiempo transcurrido (en segundos): {}'.format(t_final - t_inicial))\n",
        "    return salida\n",
        "  return cronometro\n",
        "\n",
        "import random"
      ],
      "execution_count": 0,
      "outputs": []
    },
    {
      "cell_type": "code",
      "metadata": {
        "id": "9yJccuoXTzgw",
        "colab_type": "code",
        "colab": {
          "base_uri": "https://localhost:8080/",
          "height": 71
        },
        "outputId": "87fbf612-5ba3-4040-e570-60a133bcf30a"
      },
      "source": [
        "#Algoritmo divide y vencerás quick sort\n",
        "\n",
        "A = [9187, 244, 4054, 9222, 8373, 4993, 5265, 5470, 4519, 7182, 2035, 3506, 4337, 7580, 2554, 2824, 8357, 4447, 7379]\n",
        "A = list(map(lambda x: random.randrange(1, 10000), range(1,300)))\n",
        "\n",
        "#Aplica el decorador a la función del programa a analizar\n",
        "def quick_sort(A): #Se irá dividiendo en 2 la lista\n",
        "  if len(A) == 1:\n",
        "    return A\n",
        "  \n",
        "  if len(A) == 2:\n",
        "    return [min(A), max(A)]\n",
        "  \n",
        "  pivote = (A[0] + A[1] + A[2])/3\n",
        "  \n",
        "  IZQ = []\n",
        "  DER = []\n",
        "  \n",
        "  for n in A:\n",
        "    if n < pivote:\n",
        "      IZQ.append(n) #añade al elemento en cuestión al final de la lista IZQ\n",
        "    else:\n",
        "      DER.append(n) #añade al elemento en cuestión al final de la lista DER\n",
        "  \n",
        "  return quick_sort(IZQ) + quick_sort(DER)\n",
        "\n",
        "\n",
        "@calcular_tiempo #el decorador se hace con @ antes del nombre de la función\n",
        "def ordenar(A):\n",
        "  print(quick_sort(A))\n",
        "  \n",
        "\n",
        "ordenar(A)\n"
      ],
      "execution_count": 14,
      "outputs": [
        {
          "output_type": "stream",
          "text": [
            "[1, 43, 83, 91, 146, 163, 167, 260, 288, 289, 301, 359, 378, 407, 453, 514, 569, 586, 589, 607, 627, 659, 719, 746, 749, 758, 834, 880, 900, 911, 935, 944, 954, 976, 976, 996, 1009, 1048, 1084, 1085, 1131, 1203, 1255, 1311, 1323, 1335, 1343, 1381, 1409, 1417, 1474, 1483, 1596, 1597, 1614, 1618, 1627, 1683, 1690, 1715, 1778, 1805, 1822, 1939, 1953, 2004, 2023, 2031, 2103, 2139, 2153, 2205, 2213, 2283, 2320, 2327, 2332, 2350, 2395, 2457, 2462, 2477, 2478, 2573, 2643, 2651, 2667, 2669, 2689, 2701, 2731, 2742, 2815, 2870, 2871, 2881, 2911, 2959, 3006, 3037, 3092, 3177, 3213, 3217, 3236, 3242, 3253, 3263, 3285, 3321, 3348, 3374, 3406, 3412, 3449, 3477, 3498, 3502, 3583, 3616, 3757, 3814, 3847, 3910, 3914, 3947, 4016, 4071, 4095, 4171, 4179, 4267, 4278, 4302, 4318, 4369, 4370, 4394, 4475, 4500, 4507, 4611, 4668, 4680, 4708, 4710, 4724, 4878, 4888, 4889, 4895, 5011, 5068, 5088, 5197, 5227, 5235, 5273, 5277, 5286, 5310, 5346, 5393, 5408, 5415, 5453, 5470, 5542, 5547, 5558, 5577, 5589, 5619, 5635, 5644, 5659, 5719, 5823, 5826, 5918, 5950, 5954, 5958, 5963, 5981, 5994, 6007, 6022, 6026, 6038, 6040, 6074, 6187, 6227, 6228, 6326, 6339, 6356, 6390, 6392, 6419, 6440, 6441, 6460, 6504, 6514, 6538, 6553, 6579, 6584, 6617, 6684, 6704, 6756, 6758, 6767, 6787, 6913, 6926, 6940, 6972, 7029, 7068, 7079, 7089, 7302, 7319, 7336, 7369, 7414, 7484, 7487, 7559, 7580, 7606, 7652, 7679, 7744, 7748, 7754, 7772, 7781, 7782, 7798, 7811, 7826, 7827, 7879, 7899, 7904, 7938, 8075, 8079, 8087, 8091, 8125, 8139, 8256, 8305, 8386, 8484, 8491, 8503, 8541, 8587, 8615, 8627, 8630, 8705, 8782, 8788, 8872, 8875, 8918, 9026, 9057, 9083, 9092, 9131, 9167, 9182, 9239, 9256, 9285, 9304, 9318, 9424, 9499, 9513, 9669, 9696, 9774, 9776, 9834, 9894, 9929, 9950, 9954, 9981]\n",
            "Tiempo transcurrido (en segundos): 0.0016760826110839844\n"
          ],
          "name": "stdout"
        }
      ]
    },
    {
      "cell_type": "code",
      "metadata": {
        "id": "lS-T4lA3pEvk",
        "colab_type": "code",
        "colab": {
          "base_uri": "https://localhost:8080/",
          "height": 51
        },
        "outputId": "b5644659-f9a7-4c75-a8a2-a1b60bddfd2e"
      },
      "source": [
        "#Algoritmo de voraz para la devolución del cambio\n",
        "\n",
        "SISTEMA= [25, 10, 5, 1]\n",
        "\n",
        "@calcular_tiempo\n",
        "def cambio_monedas(CANTIDAD, SISTEMA):\n",
        "  SOLUCION = [0 for i in range(len(SISTEMA)) ]\n",
        "  VALOR_ACUMULADO = 0\n",
        "  \n",
        "  for i in range(len(SISTEMA)):\n",
        "    monedas = int((CANTIDAD - VALOR_ACUMULADO)/SISTEMA[i])\n",
        "    SOLUCION[i] = monedas\n",
        "    VALOR_ACUMULADO = VALOR_ACUMULADO + monedas*SISTEMA[i]\n",
        "    \n",
        "    if VALOR_ACUMULADO == CANTIDAD:\n",
        "      return SOLUCION\n",
        "    \n",
        "print(cambio_monedas(23, SISTEMA))\n",
        "\n"
      ],
      "execution_count": 18,
      "outputs": [
        {
          "output_type": "stream",
          "text": [
            "Tiempo transcurrido (en segundos): 1.0728836059570312e-05\n",
            "[0, 2, 0, 3]\n"
          ],
          "name": "stdout"
        }
      ]
    },
    {
      "cell_type": "code",
      "metadata": {
        "id": "H7mq9RGhsAkE",
        "colab_type": "code",
        "colab": {
          "base_uri": "https://localhost:8080/",
          "height": 221
        },
        "outputId": "787d2671-827b-4bfa-c1d3-59ead2fcd970"
      },
      "source": [
        "#Algoritmo con vuelta atrás para el problema de las N-reinas\n",
        "\n",
        "def es_prometedora(SOLUCION, etapa):\n",
        "  for i in range(etapa+1):\n",
        "    if SOLUCION.count(SOLUCION[i]) > 1:\n",
        "      return False\n",
        "    \n",
        "  for j in range(i+1, etapa +1):\n",
        "    if abs(i-j) == abs(SOLUCION[I] - SOLUCION[J]):\n",
        "      return False\n",
        "    \n",
        "  return True\n",
        "\n",
        "\n",
        "def reinas(N, solucion=[], etapa=0):\n",
        "  if len(solucion) == 0:\n",
        "      solucion=[0 for i in range(N)]\n",
        "      \n",
        "  for i in range(1, N+1):\n",
        "    solucion[etapa] = i\n",
        "    \n",
        "    if es_prometedora(solucion, etapa):\n",
        "      if etapa == N-1:\n",
        "        print('La solución es:')\n",
        "        print(solucion)\n",
        "        \n",
        "      else:\n",
        "        reinas(N, solucion, etapa+1)\n",
        "      \n",
        "    else:\n",
        "      None\n",
        "      \n",
        "      \n",
        "reinas(4)"
      ],
      "execution_count": 27,
      "outputs": [
        {
          "output_type": "stream",
          "text": [
            "La solución es:\n",
            "[1, 2, 3, 4]\n",
            "La solución es:\n",
            "[1, 3, 2, 4]\n",
            "La solución es:\n",
            "[2, 1, 3, 4]\n",
            "La solución es:\n",
            "[2, 3, 1, 4]\n",
            "La solución es:\n",
            "[3, 1, 2, 4]\n",
            "La solución es:\n",
            "[3, 2, 1, 4]\n"
          ],
          "name": "stdout"
        }
      ]
    }
  ]
}